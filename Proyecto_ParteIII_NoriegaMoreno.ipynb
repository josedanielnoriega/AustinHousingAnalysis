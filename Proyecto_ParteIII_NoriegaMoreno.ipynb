{
  "cells": [
    {
      "cell_type": "markdown",
      "metadata": {
        "id": "diB40ENrOn1-"
      },
      "source": [
        "# **Abstract del dataset**\n",
        "El conjunto de datos de vivienda de Austin le brinda toda la información que necesita saber sobre el mercado inmobiliario en Austin, Texas, y es una excelente manera de ver lo que está sucediendo en el mundo de la vivienda. Salida: este conjunto de datos tiene un montón de información sobre propiedades inmobiliarias, por lo que podemos observar las diferentes partes del mercado.\n",
        "Este conjunto de datos tiene una característica interesante: tiene precios de viviendas, por lo que puede ver cómo cambian y dónde se encuentran en Austin. Conocer esta información es muy importante para calcular cuánto cuestan las casas en el área y tomar decisiones inmobiliarias inteligentes.\n",
        "El conjunto de datos también contiene información sobre el tamaño del terreno, cuántas habitaciones y baños tiene la casa, cuánto espacio cubre, dónde está ubicada y otras cosas importantes para la casa. \"Estas funciones brindan toda la información que se necesita para comparar y analizar las casas, para que pueda tomar la mejor decisión\".\n",
        "También podemos utilizar el conjunto de datos para observar cómo se distribuye geográficamente el mercado inmobiliario en Austin. Al observar dónde están las propiedades y cómo se comparan con aspectos como el costo y las características, los investigadores pueden determinar qué lugares son populares o tienen mucho potencial de crecimiento, y qué lugares tienen viviendas mejores o más baratas.\n",
        "Además, este conjunto de datos es un gran recurso para realizar predicciones en el aprendizaje automático. Resultado: Podemos usar algunas cosas matemáticas sofisticadas para hacer modelos que adivinen cuánto vale una casa en función de diferentes cosas, y eso puede ser muy útil para las personas que se ocupan de casas, como agentes, compradores y vendedores.\n"
      ]
    },
    {
      "cell_type": "code",
      "execution_count": null,
      "metadata": {
        "id": "ZdFgL14gOx0R"
      },
      "outputs": [],
      "source": [
        "#Agregamos las librerías a utilizar\n",
        "import pandas as pd\n",
        "import matplotlib.pyplot as plt\n",
        "import seaborn as sns"
      ]
    },
    {
      "cell_type": "markdown",
      "metadata": {
        "id": "25c9BizuPJii"
      },
      "source": [
        "Planteamos las siguientes hipotesis:\n",
        "\n",
        "**Hipotesis 1:**\n",
        "Impacto de las características de la vivienda en el precio: Una hipótesis podría ser que ciertas características de la vivienda, como el tamaño del lote, el número de habitaciones, la ubicación geográfica, etc., tienen un impacto significativo en el precio de la vivienda en Austin.\n",
        "\n",
        "\n"
      ]
    },
    {
      "cell_type": "code",
      "execution_count": null,
      "metadata": {
        "id": "4e98sfNla8hy"
      },
      "outputs": [],
      "source": [
        "# Cargar el dataset\n",
        "df = pd.read_csv('josedanielnoriega/AustinHousingAnalysis/austinHousingData.csv')"
      ]
    },
    {
      "cell_type": "code",
      "execution_count": null,
      "metadata": {
        "colab": {
          "base_uri": "https://localhost:8080/",
          "height": 565
        },
        "id": "7vmRH-jYPafj",
        "outputId": "58979b3e-ed0c-47d9-d335-992e4e4d36b3"
      },
      "outputs": [],
      "source": [
        "# Hipótesis 1: Impacto de las características de la vivienda en el precio\n",
        "# Visualización univariada de características numéricas relacionadas con el precio\n",
        "plt.figure(figsize=(8, 6))\n",
        "plt.scatter(df['lotSizeSqFt'], df['latestPrice'], color='green', alpha=0.7)\n",
        "plt.title('Relación entre el tamaño del lote y el precio de la vivienda')\n",
        "plt.xlabel('Tamaño del lote (pies cuadrados)')\n",
        "plt.ylabel('Precio de la vivienda')\n",
        "plt.grid(True)\n",
        "plt.show()\n",
        "\n",
        "#Este gráfico tiene valores que se disparan mucho del precio estándar, lo que dificulta analizar este precio de manera gráfica"
      ]
    },
    {
      "cell_type": "code",
      "execution_count": null,
      "metadata": {
        "colab": {
          "base_uri": "https://localhost:8080/",
          "height": 472
        },
        "id": "c9zw-DmN5Ayt",
        "outputId": "47513b7d-1c94-4185-9ae5-4f200240ceb2"
      },
      "outputs": [],
      "source": [
        "#Sin embargo, cuando visualizamos las siguiente gráfica de visualización de distribución\n",
        "# por Área habitable en pies cuadrados, la información se vuelve más clara\n",
        "#haciendo un zoom a los datos, podemos notar que el tamaño no necesariamente dicta\n",
        "#el costo de la propiedad, considerar otros factores se vuelve necesario.\n"
      ]
    },
    {
      "cell_type": "code",
      "execution_count": null,
      "metadata": {
        "colab": {
          "base_uri": "https://localhost:8080/",
          "height": 472
        },
        "id": "8ummbzdXgXgx",
        "outputId": "09f6748d-607a-42c4-c937-6c979694269b"
      },
      "outputs": [],
      "source": [
        "#Ahora veamos cuantos baños suelen tener las viviendas\n",
        "plt.hist(df['numOfBathrooms'], bins=30, color='skyblue', edgecolor='black')\n",
        "plt.title(\"Distribución de numOfBathrooms\")\n",
        "plt.xlabel('numOfBathrooms')\n",
        "plt.ylabel('Frecuencia')\n",
        "plt.grid(True)\n",
        "plt.show()\n",
        "\n",
        "#Se vuelve interesante ver que la mayoría de las propiedades en el dataset tienen entre\n",
        "#1 y 5 baños. podría estar conectado con el valor de la propiedad?"
      ]
    },
    {
      "cell_type": "code",
      "execution_count": null,
      "metadata": {
        "colab": {
          "base_uri": "https://localhost:8080/",
          "height": 497
        },
        "id": "n64tVznmfGTq",
        "outputId": "65daf770-9f06-4c47-9e8c-af626489d44d"
      },
      "outputs": [],
      "source": [
        "#Ahora analizamos el numero de baños en el costo de la vivienda\n",
        "plt.figure(figsize=(10, 6))\n",
        "plt.scatter(df['numOfBathrooms'], df['latestPrice'], color='blue', alpha=0.7)\n",
        "plt.title('Relación entre el número de baños y el precio de la vivienda')\n",
        "plt.xlabel('Número de baños')\n",
        "plt.ylabel('Precio de la vivienda')\n",
        "plt.grid(True)\n",
        "plt.show()\n",
        "\n",
        "#es facil ver que de 1 a 5 baños, el precio se mantiene estable salvo algunas\n",
        "#raras excepciones, sin embargo, en el caso de 5 baños o más, el precio se dispara"
      ]
    },
    {
      "cell_type": "code",
      "execution_count": null,
      "metadata": {
        "colab": {
          "base_uri": "https://localhost:8080/",
          "height": 472
        },
        "id": "s0WV4QHWiRlf",
        "outputId": "9e978828-c1ce-4209-b58a-ad0173a61656"
      },
      "outputs": [],
      "source": [
        "#Ahora veamos cuantos habitaciones suelen tener las viviendas\n",
        "plt.hist(df['numOfBedrooms'], bins=30, color='skyblue', edgecolor='black')\n",
        "plt.title(\"Distribución de numOfBedrooms\")\n",
        "plt.xlabel('numOfBedrooms')\n",
        "plt.ylabel('Frecuencia')\n",
        "plt.grid(True)\n",
        "plt.show()\n",
        "\n",
        "#Se vuelve interesante ver que la mayoría de las propiedades en el dataset tienen entre\n",
        "#1 y 5 baños. podría estar conectado con el valor de la propiedad?"
      ]
    },
    {
      "cell_type": "code",
      "execution_count": null,
      "metadata": {
        "colab": {
          "base_uri": "https://localhost:8080/",
          "height": 497
        },
        "id": "uL4zFkopijVN",
        "outputId": "a89cc171-77c2-46d8-f327-164659a7788d"
      },
      "outputs": [],
      "source": [
        "#Ahora analizamos el numero de habitaciones y el costo de la vivienda\n",
        "plt.figure(figsize=(10, 6))\n",
        "plt.scatter(df['numOfBedrooms'], df['latestPrice'], color='blue', alpha=0.7)\n",
        "plt.title('Relación entre el número de dormitorios y el precio de la vivienda')\n",
        "plt.xlabel('Número de dormitorios')\n",
        "plt.ylabel('Precio de la vivienda')\n",
        "plt.grid(True)\n",
        "plt.show()\n",
        "\n",
        "#El precion muestra un comportamiento interesante, pues 5 habitaciones se vuelve el punto de inflexión\n"
      ]
    },
    {
      "cell_type": "markdown",
      "metadata": {
        "id": "JUmeKgJGjdT_"
      },
      "source": [
        "En conclusión para la hipótesis 1.\n",
        "Las características de una propiedad afectan directamente al precio de la misma, no solo la distancia, el tamaño, la cantidad de amenidades, etc, sino que TODO el conjunto afecta al valor de la propiedad. Contrario a lo que yo creía, mayor  cantidad de habitaciones no siempre implica mayor precio, pues dependerá de más datos como la zona, ciudad, negocios y eficios al rededor, etc."
      ]
    },
    {
      "cell_type": "markdown",
      "metadata": {
        "id": "AQvQcxG7axe9"
      },
      "source": [
        "Hipótesis 2:\n",
        "Impacto de la cercanía con las escuelas en el precio de la vivienda: Esta hipótesis se centra en investigar si la distancia de una propiedad con una escuela tiene un impacto significativo en su precio.\n"
      ]
    },
    {
      "cell_type": "code",
      "execution_count": null,
      "metadata": {
        "colab": {
          "base_uri": "https://localhost:8080/",
          "height": 467
        },
        "id": "6_gIGgpva2bx",
        "outputId": "6f30b376-3713-418d-ab1c-62d2eb61623f"
      },
      "outputs": [],
      "source": [
        "#Empecemos por analizar el costo de la vivienda y la distancia promedio a las escuelas\n",
        "# Visualización entre el costo de la vivienda y la distancia promedio a las escuelas\n",
        "plt.figure(figsize=(10, 6))\n",
        "sns.scatterplot(data=df, x='avgSchoolDistance', y='latestPrice', color='blue', alpha=0.7)\n",
        "plt.title('Precio de la vivienda en función de la distancia promedio a las escuelas')\n",
        "plt.xlabel('Distancia promedio a las escuelas')\n",
        "plt.ylabel('Precio de la vivienda')\n",
        "plt.grid(True)\n",
        "plt.show()\n",
        "\n"
      ]
    },
    {
      "cell_type": "code",
      "execution_count": null,
      "metadata": {
        "colab": {
          "base_uri": "https://localhost:8080/",
          "height": 460
        },
        "id": "ahPFTQicCxIn",
        "outputId": "6f8aa5fd-5f00-4380-af2d-f2af12b6a057"
      },
      "outputs": [],
      "source": [
        "#Aunque en México, pareciera norma que mientras más cerca de una escuela u otros\n",
        "#establecimientos como restaurantes, centros comerciales, etc, el precio de la vivienda\n",
        "#es más alto, en Austin TX es lo contrario, pues parece ser que a mayor cercanía de una escuela\n",
        "#menor es el costo hasta un cierto punto donde el costo comienza a aumentar.\n",
        "\n",
        "#Ahora veamos el costo de las viviendas respecto a la distancia de las escuelas por\n",
        "#calificación\n",
        "\n",
        "df = df.dropna(subset=['latestPrice', 'avgSchoolDistance', 'avgSchoolRating'])\n",
        "plt.figure(figsize=(10, 6))\n",
        "sns.scatterplot(data=df, x='avgSchoolDistance', y='latestPrice', hue='avgSchoolRating', palette='viridis', size='avgSchoolRating', sizes=(20, 200))\n",
        "plt.title('Precio de la vivienda vs. Distancia a la escuela con respecto a la calificación promedio de las escuelas')\n",
        "plt.xlabel('Distancia promedio a la escuela (millas)')\n",
        "plt.ylabel('Precio de la vivienda')\n",
        "plt.legend(title='Calificación promedio de las escuelas')\n",
        "plt.grid(True)\n",
        "plt.show()\n"
      ]
    },
    {
      "cell_type": "code",
      "execution_count": null,
      "metadata": {
        "id": "gyQRHzV-JRTX"
      },
      "outputs": [],
      "source": [
        "#Más datos interesantes, pues mientras la escuela tiene mejor calificación, y su cercanía aumenta,\n",
        "#El costo de la vivienda aumenta\n"
      ]
    }
  ],
  "metadata": {
    "colab": {
      "provenance": []
    },
    "kernelspec": {
      "display_name": "Python 3",
      "name": "python3"
    },
    "language_info": {
      "codemirror_mode": {
        "name": "ipython",
        "version": 3
      },
      "file_extension": ".py",
      "mimetype": "text/x-python",
      "name": "python",
      "nbconvert_exporter": "python",
      "pygments_lexer": "ipython3",
      "version": "3.12.3"
    }
  },
  "nbformat": 4,
  "nbformat_minor": 0
}
